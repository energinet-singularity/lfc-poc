{
 "cells": [
  {
   "cell_type": "code",
   "execution_count": null,
   "metadata": {},
   "outputs": [],
   "source": [
    "from time import sleep\n",
    "from datetime import datetime\n",
    "from json import dumps\n",
    "import os\n",
    "import random\n",
    "\n",
    "from singukafka import KafkaHelper\n",
    "\n",
    "# importing files with settings\n",
    "import parm_kafka_topic_nm as tp_nm\n",
    "import parm_kafka_msg_val_nm as msg_val_nm\n",
    "\n",
    "# kafka brooker setting\n",
    "%env KAFKA_HOST=localhost\n",
    "\n",
    "# init kafka\n",
    "consumer_gp_nm = \"testing_stuffc\"\n",
    "kafka_obj = KafkaHelper(group_id=consumer_gp_nm,\n",
    "                        auto_offset_reset=\"earliest\",\n",
    "                        enable_auto_commit=False,\n",
    "                        topics_consumed_list=[],\n",
    "                        topics_produced_list=[tp_nm.lfc_mw_diff, tp_nm.lfc_p_corr])\n"
   ]
  },
  {
   "cell_type": "code",
   "execution_count": null,
   "metadata": {},
   "outputs": [],
   "source": [
    "# SET MW DIFF / make disturbance\n",
    "\n",
    "lfc_mw_diff = 0\n",
    "\n",
    "print(f\"Regulation need is now: {lfc_mw_diff } MW\")\n",
    "kafka_obj.produce_message(topic_name=tp_nm.lfc_mw_diff,\n",
    "                          msg_value={msg_val_nm.lfc_mw_diff : lfc_mw_diff},\n",
    "                          msg_key=msg_val_nm.lfc_mw_diff)"
   ]
  },
  {
   "cell_type": "code",
   "execution_count": null,
   "metadata": {},
   "outputs": [],
   "source": [
    "# set lfc P corr\n",
    "\n",
    "lfc_p_corr = 0\n",
    "\n",
    "print(f\"LFC_P_corr is now: {lfc_p_corr}\")\n",
    "kafka_obj.produce_message(topic_name=tp_nm.lfc_p_corr,\n",
    "                          msg_value={msg_val_nm.lfc_p_corr : lfc_p_corr},\n",
    "                          msg_key=msg_val_nm.lfc_p_corr)"
   ]
  },
  {
   "cell_type": "code",
   "execution_count": null,
   "metadata": {},
   "outputs": [],
   "source": [
    "# Ramp MW DIFF #\n",
    "\n",
    "\n",
    "for i in range(0,50,1):\n",
    "\n",
    "    print(f\"Regulation need is now: {i} MW\")\n",
    "    kafka_obj.produce_message(topic_name=tp_nm.lfc_mw_diff,\n",
    "                                          msg_value={msg_val_nm.lfc_mw_diff : i})\n",
    "    sleep(4)\n",
    "\n",
    "print(\"Done ramping!\")\n"
   ]
  },
  {
   "cell_type": "code",
   "execution_count": null,
   "metadata": {},
   "outputs": [],
   "source": [
    "# P Corr random #\n",
    "\n",
    "lfc_p_corr = round(random.uniform(-10, 10), 2)\n",
    "\n",
    "print(f\"LFC_P_corr is now: {lfc_p_corr}\")\n",
    "kafka_obj.produce_message(topic_name=tp_nm.lfc_p_corr,\n",
    "                                          msg_value={msg_val_nm.lfc_p_corr : lfc_p_corr})"
   ]
  },
  {
   "cell_type": "code",
   "execution_count": null,
   "metadata": {},
   "outputs": [],
   "source": [
    "# SET MW DIFF / make disturbance\n",
    "# for i in range(0,1):\n",
    "\n",
    "\n",
    "lfc_mw_diff =  round(random.uniform(-10, 10), 2)\n",
    "\n",
    "# add_to_log(f\"Regulation need is now: {lfc_mw_diff } MW\")\n",
    "# kafka_obj.produce_message(topic_name=tp_nm.lfc_mw_diff,\n",
    "                                        # msg_value={msg_val_nm.lfc_mw_diff : lfc_mw_diff})\n",
    "kafka_obj.producer.send(topic=tp_nm.lfc_mw_diff, value={msg_val_nm.lfc_mw_diff : lfc_mw_diff}, key=msg_val_nm.lfc_mw_diff)\n"
   ]
  },
  {
   "cell_type": "code",
   "execution_count": null,
   "metadata": {},
   "outputs": [],
   "source": [
    "kafka_obj.produce_message(topic_name=tp_nm.lfc_p_input,\n",
    "                                          msg_value={msg_val_nm.lfc_p_input : 0})"
   ]
  },
  {
   "cell_type": "code",
   "execution_count": null,
   "metadata": {},
   "outputs": [],
   "source": [
    "kafka_obj.produce_message(topic_name=tp_nm.lfc_p_target,\n",
    "                                          msg_value={msg_val_nm.lfc_p_target : 0})"
   ]
  },
  {
   "cell_type": "code",
   "execution_count": null,
   "metadata": {},
   "outputs": [],
   "source": [
    "kafka_obj.produce_message(topic_name=tp_nm.lfc_p_target_state,\n",
    "                            msg_key=\"lfc_p_target_calc_state\",\n",
    "                            msg_value={'Timestamp': str(datetime.now()),\n",
    "                                        msg_val_nm.lfc_p_target: 0,\n",
    "                                        msg_val_nm.lfc_p_target_error: 0,\n",
    "                                        msg_val_nm.lfc_p_target_error_sum: 0,\n",
    "                                        msg_val_nm.lfc_p_target_error_diff: 0})"
   ]
  }
 ],
 "metadata": {
  "interpreter": {
   "hash": "31f2aee4e71d21fbe5cf8b01ff0e069b9275f58929596ceb00d14d90e3e16cd6"
  },
  "kernelspec": {
   "display_name": "Python 3.8.10 64-bit",
   "language": "python",
   "name": "python3"
  },
  "language_info": {
   "codemirror_mode": {
    "name": "ipython",
    "version": 3
   },
   "file_extension": ".py",
   "mimetype": "text/x-python",
   "name": "python",
   "nbconvert_exporter": "python",
   "pygments_lexer": "ipython3",
   "version": "3.8.10"
  },
  "orig_nbformat": 2
 },
 "nbformat": 4,
 "nbformat_minor": 2
}
